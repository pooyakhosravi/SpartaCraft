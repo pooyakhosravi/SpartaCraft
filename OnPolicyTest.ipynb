{
 "cells": [
  {
   "cell_type": "code",
   "execution_count": 8,
   "metadata": {},
   "outputs": [],
   "source": [
    "import tensorflow as tf\n",
    "import numpy as np\n",
    "import matplotlib.pyplot as plt\n",
    "import matplotlib.cm as cm\n",
    "import matplotlib.patches as mpatches"
   ]
  },
  {
   "cell_type": "code",
   "execution_count": 9,
   "metadata": {},
   "outputs": [],
   "source": [
    "import tile_coding"
   ]
  },
  {
   "cell_type": "code",
   "execution_count": 10,
   "metadata": {},
   "outputs": [],
   "source": [
    "def tf_reset():\n",
    "    try:\n",
    "        sess.close()\n",
    "    except:\n",
    "        pass\n",
    "    tf.reset_default_graph()\n",
    "    return tf.Session()"
   ]
  },
  {
   "cell_type": "code",
   "execution_count": 16,
   "metadata": {},
   "outputs": [],
   "source": [
    "class MountainCar():\n",
    "    def __init__():\n",
    "        self.position_min = tf.constant(-1.2, dtype=tf.float32)\n",
    "        self.position_max = tf.constant(0.5, dtype=tf.float32)\n",
    "        self.position_range = self.position_max - self.position_min\n",
    "        self.position = tf.random.uniform([], .4, .6)\n",
    "        \n",
    "        self.velocity_min = tf.constant(-0.07, dtype=tf.float32)\n",
    "        self.velocity_max = tf.constant(0.07, dtype=tf.float32)\n",
    "        self.velocity_range = self.velocity_max - self.velocity_min\n",
    "        self.velocity = tf.constant(0.0, dtype=tf.float32)\n",
    "        \n",
    "        self.time = 0\n",
    "        self.iht = IHT(2048)\n",
    "        self.num_tilings = 8\n",
    "        \n",
    "    def bound_position(self, x):\n",
    "        return tf.clip_by_value(x , self.position_min, self.position_max)\n",
    "        \n",
    "    def bound_velocity(self, x):\n",
    "        return tf.clip_by_value(x , self.velocity_min, self.velocity_max)\n",
    "    \n",
    "    def step(self, action):\n",
    "        self.position = bound_position(self.position + self.update_velocity())\n",
    "        self.time += 1\n",
    "        return self.get_reward(), self.get_state()\n",
    "    \n",
    "    def update_velocity(self, action):\n",
    "        self.velocity = bound_velocity(self.velocity + 0.001 * action - 0.0025 * tf.math.cos(3 * self.position))\n",
    "        \n",
    "    def get_possible_actions(self):\n",
    "        return tf.constant([-1.0, 0,0, 1.0],  dtype=tf.float32)\n",
    "    \n",
    "    def get_state(self):\n",
    "        return self.position, self.velocity\n",
    "    \n",
    "    def get_feature_vector(self, a):\n",
    "        # Rescale position (x, velocity) to (0-10, 0-10)\n",
    "        state = ((self.position / self.position_range) * 10.0,(self.velocity / self.velocity_range) * 10.0, a * 5.0)\n",
    "        return tiles(self.iht, self.num_tilings, state)\n",
    "        \n",
    "    def get_reward(self):\n",
    "        if self.position == self.position_max:\n",
    "            return 1.0\n",
    "        return -1.0\n",
    "        \n",
    "    def is_terminal(self):\n",
    "        return self.get_reward() == 1.0"
   ]
  },
  {
   "cell_type": "code",
   "execution_count": 17,
   "metadata": {},
   "outputs": [],
   "source": [
    "def create_model(input_dim, output_dim):\n",
    "    # create inputs\n",
    "    input_ph = tf.placeholder(dtype=tf.float32, shape=[None, 1])\n",
    "    output_ph = tf.placeholder(dtype=tf.float32, shape=[None, 1])\n",
    "\n",
    "    # create variables\n",
    "    W0 = tf.get_variable(name='W0', shape=[1, input_dim], initializer=tf.contrib.layers.xavier_initializer())\n",
    "    W1 = tf.get_variable(name='W1', shape=[input_dim, input_dim], initializer=tf.contrib.layers.xavier_initializer())\n",
    "    W2 = tf.get_variable(name='W2', shape=[input_dim, 1], initializer=tf.contrib.layers.xavier_initializer())\n",
    "\n",
    "    b0 = tf.get_variable(name='b0', shape=[input_dim], initializer=tf.constant_initializer(0.))\n",
    "    b1 = tf.get_variable(name='b1', shape=[input_dim], initializer=tf.constant_initializer(0.))\n",
    "    b2 = tf.get_variable(name='b2', shape=[output_dim], initializer=tf.constant_initializer(0.))\n",
    "\n",
    "    weights = [W0, W1, W2]\n",
    "    biases = [b0, b1, b2]\n",
    "    activations = [tf.nn.relu, tf.nn.relu, tf.nn.softmax]\n",
    "\n",
    "    # create computation graph\n",
    "    layer = input_ph\n",
    "    for W, b, activation in zip(weights, biases, activations):\n",
    "        layer = tf.matmul(layer, W) + b\n",
    "        if activation is not None:\n",
    "            layer = activation(layer)\n",
    "    output_pred = layer\n",
    "    \n",
    "    return input_ph, output_ph, output_pred    "
   ]
  },
  {
   "cell_type": "code",
   "execution_count": 22,
   "metadata": {},
   "outputs": [],
   "source": [
    "class LinearEstimator():\n",
    "    def __init__(env, n):\n",
    "        self.env = env\n",
    "        self.w = tf.get_variable(name='w', shape=(env.get_feature_vector().shape), dtype=tf.bool, initializer=tf.constant_initializer(0.))\n",
    "        \n",
    "    def get_best_action(s):\n",
    "        # compute the function values\n",
    "        f = lambda a: self.q_hat(s, a)\n",
    "        q = tf.map_fn(f.q_hat, self.env.get_possible_actions());\n",
    "\n",
    "        # determine the index of the input tensor that maximizes the function\n",
    "        index = sess.run(tf.argmax(q, axis = 0));\n",
    "        \n",
    "    def q_hat(s, a):\n",
    "        tf.tensordot(self.w, self.env.get_feature_vector(a), 1)\n",
    "        "
   ]
  },
  {
   "cell_type": "code",
   "execution_count": 21,
   "metadata": {},
   "outputs": [],
   "source": [
    "def episodic_semi_gradient_n_step_sarsa(env, estimator, alpha=.5, epsilon=.1, discount_factor=.9, n=8):\n",
    "    num_episodes = 100\n",
    "    for ep in range(num_episodes):\n",
    "        S = tf.get_variable(name='S', shape=((n-1) + env.get_state().shape), dtype=tf.bool, initializer=tf.constant_initializer(var_init_value))\n",
    "        A = tf.get_variable(name='A', shape=(n - 1), dtype=tf.float32, initializer = [0] * (n - 1))\n",
    "        R = tf.get_variable(name='R', shape=(n - 1), dtype=tf.float32, initializer = [0.0] * (n - 1))\n",
    "        S[0] = env.get_state()\n",
    "        A[0] = estimator.get_best_action(S[0])\n",
    "        R[0] = 0\n",
    "        t = 0\n",
    "        tau = 0\n",
    "        T = np.iinfo(im.dtype).max\n",
    "        while tau != T - 1:\n",
    "            if t < T:\n",
    "                R[(t + 1) % (n + 1)], S[(t + 1) % (n + 1)] = act(A[t])\n",
    "                if env.is_terminal():\n",
    "                    T = t + 1\n",
    "                else:\n",
    "                    A[(t + 1) % (n + 1)] = estimator.get_best_action(q_hat(S[(t + 1) % (n + 1)]))\n",
    "            tau = t - n + 1\n",
    "            if tau >= 0:\n",
    "                if tau + n < T:\n",
    "                    G = np.sum([np.power(discount_factor,i - tau - 1) * R[i % n + 1] for i in range(tau + 1, np.min(tau+n, T))])\n",
    "                else:\n",
    "                    G = G + np.power(discount_factor, n) * q_hat(S[(t + n) % (n + 1)], A[(t + n) % (n + 1)])\n",
    "                update_weights(alpha)\n",
    "            t += 1"
   ]
  },
  {
   "cell_type": "code",
   "execution_count": 25,
   "metadata": {},
   "outputs": [
    {
     "ename": "TypeError",
     "evalue": "__init__() takes 0 positional arguments but 1 was given",
     "output_type": "error",
     "traceback": [
      "\u001b[0;31m---------------------------------------------------------------------------\u001b[0m",
      "\u001b[0;31mTypeError\u001b[0m                                 Traceback (most recent call last)",
      "\u001b[0;32m<ipython-input-25-0c62b13d603e>\u001b[0m in \u001b[0;36m<module>\u001b[0;34m\u001b[0m\n\u001b[0;32m----> 1\u001b[0;31m \u001b[0menv\u001b[0m \u001b[0;34m=\u001b[0m \u001b[0mMountainCar\u001b[0m\u001b[0;34m(\u001b[0m\u001b[0;34m)\u001b[0m\u001b[0;34m\u001b[0m\u001b[0;34m\u001b[0m\u001b[0m\n\u001b[0m\u001b[1;32m      2\u001b[0m \u001b[0mn\u001b[0m \u001b[0;34m=\u001b[0m \u001b[0;36m8\u001b[0m\u001b[0;34m\u001b[0m\u001b[0;34m\u001b[0m\u001b[0m\n\u001b[1;32m      3\u001b[0m \u001b[0mepisodic_semi_gradient_n_step_sarsa\u001b[0m\u001b[0;34m(\u001b[0m\u001b[0menv\u001b[0m\u001b[0;34m,\u001b[0m \u001b[0mLinearEstimator\u001b[0m\u001b[0;34m(\u001b[0m\u001b[0menv\u001b[0m\u001b[0;34m,\u001b[0m \u001b[0mn\u001b[0m\u001b[0;34m)\u001b[0m\u001b[0;34m,\u001b[0m \u001b[0mn\u001b[0m\u001b[0;34m=\u001b[0m\u001b[0;36m8\u001b[0m\u001b[0;34m)\u001b[0m\u001b[0;34m\u001b[0m\u001b[0;34m\u001b[0m\u001b[0m\n",
      "\u001b[0;31mTypeError\u001b[0m: __init__() takes 0 positional arguments but 1 was given"
     ]
    }
   ],
   "source": [
    "env = MountainCar()\n",
    "n = 8\n",
    "episodic_semi_gradient_n_step_sarsa(env, LinearEstimator(env, n), n=8)"
   ]
  }
 ],
 "metadata": {
  "kernelspec": {
   "display_name": "Python 3",
   "language": "python",
   "name": "python3"
  },
  "language_info": {
   "codemirror_mode": {
    "name": "ipython",
    "version": 3
   },
   "file_extension": ".py",
   "mimetype": "text/x-python",
   "name": "python",
   "nbconvert_exporter": "python",
   "pygments_lexer": "ipython3",
   "version": "3.6.7"
  }
 },
 "nbformat": 4,
 "nbformat_minor": 2
}
